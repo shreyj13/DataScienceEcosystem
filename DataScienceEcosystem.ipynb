{
 "cells": [
  {
   "cell_type": "markdown",
   "id": "b99cd590-4478-440f-b459-daf3d9335ba2",
   "metadata": {},
   "source": [
    "# Data Science Tools and Ecosystem"
   ]
  },
  {
   "cell_type": "markdown",
   "id": "e3de3806-d9c9-46c6-9e4f-8f129db79574",
   "metadata": {},
   "source": [
    "In this notebook, Data Science Tools and Ecosystems are summarized."
   ]
  },
  {
   "cell_type": "markdown",
   "id": "6597a340-ef40-43e3-b7e0-2ead0d9deb1c",
   "metadata": {},
   "source": [
    "**Objectives:**\n",
    "- Popular Languages used by Data Scientists.\n",
    "- Common Libraries used by Data Scientists.\n",
    "- Key takeaways of tools for Data Science.\n",
    "- Simple Mathematical Operations."
   ]
  },
  {
   "cell_type": "markdown",
   "id": "fde1fa1e-72c1-44ad-9ce3-c0f9fcb482b7",
   "metadata": {},
   "source": [
    "Some of the popular languages that Data Scientists use are:\n",
    "1. Python\n",
    "2. SQL\n",
    "3. R\n",
    "4. Java"
   ]
  },
  {
   "cell_type": "markdown",
   "id": "3791b1ef-93ec-4ca7-9354-8ee39628ca87",
   "metadata": {},
   "source": [
    "Some of the commonly used libraries used by Data Scientists include:\n",
    "1. Numpy\n",
    "2. Panda\n",
    "3. Matplotlib\n",
    "4. Seaborn\n",
    "5. Scikit-Learn\n",
    "6. PyTorch\n",
    "7. TensorFlow"
   ]
  },
  {
   "cell_type": "markdown",
   "id": "37238744-63ae-4f1d-b2af-78b6291d1fba",
   "metadata": {},
   "source": [
    "|Data Science Tools|\n",
    "|------------------|\n",
    "|Anaconda|\n",
    "|Jupyter Notebooks|\n",
    "|R Studio|\n",
    "|Spyder|\n",
    "|Zeppelein|"
   ]
  },
  {
   "cell_type": "markdown",
   "id": "d16b46ec-e4b8-4990-aa3d-68db8cde497a",
   "metadata": {},
   "source": [
    "### Below are a few examples of evaluating arithmetic expressions in Python."
   ]
  },
  {
   "cell_type": "code",
   "execution_count": 2,
   "id": "18512bc2-d50c-4bcb-bba0-b3327f3599a6",
   "metadata": {},
   "outputs": [
    {
     "name": "stdout",
     "output_type": "stream",
     "text": [
      "9\n",
      "20\n",
      "17\n"
     ]
    }
   ],
   "source": [
    "print(4+5)\n",
    "#Simple arithmetic operation between two integers.\n",
    "\n",
    "print(4*5)\n",
    "#Simple multiplication operation between two integers.\n",
    "\n",
    "print((4*3)+5)\n",
    "#Simple arithmetic operation to multiply then add integers."
   ]
  },
  {
   "cell_type": "code",
   "execution_count": 3,
   "id": "fb3d32b2-5567-4584-b3cf-03165bde5ca5",
   "metadata": {},
   "outputs": [
    {
     "name": "stdout",
     "output_type": "stream",
     "text": [
      "3.3333333333333335\n"
     ]
    }
   ],
   "source": [
    "#hr- hour; min- minutes\n",
    "min = 200\n",
    "hr = min/60\n",
    "print(hr)"
   ]
  },
  {
   "cell_type": "markdown",
   "id": "5e8546ae-4a82-42aa-b499-9fe9d5b682f3",
   "metadata": {},
   "source": [
    "## Author\n",
    "Shreyas Jain"
   ]
  }
 ],
 "metadata": {
  "kernelspec": {
   "display_name": "Python 3 (ipykernel)",
   "language": "python",
   "name": "python3"
  },
  "language_info": {
   "codemirror_mode": {
    "name": "ipython",
    "version": 3
   },
   "file_extension": ".py",
   "mimetype": "text/x-python",
   "name": "python",
   "nbconvert_exporter": "python",
   "pygments_lexer": "ipython3",
   "version": "3.12.2"
  }
 },
 "nbformat": 4,
 "nbformat_minor": 5
}
