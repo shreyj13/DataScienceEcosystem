{
 "cells": [
  {
   "cell_type": "markdown",
   "id": "7b204a49-6736-4e98-ba51-790141dabdaa",
   "metadata": {},
   "source": [
    "# Data Science Tools and Ecosystem"
   ]
  },
  {
   "cell_type": "markdown",
   "id": "4bac44af-3eca-4b78-a04d-001630f34888",
   "metadata": {},
   "source": [
    "In this notebook, Data Science Tools and Ecosystem are summarized."
   ]
  },
  {
   "cell_type": "markdown",
   "id": "ff5447ff-0835-4e9c-980e-a9516c5d99f7",
   "metadata": {},
   "source": [
    "**Objectives:**\n",
    "- Popular languages that Data Scientists use.\n",
    "- Commonly Used Libraries in Data Science\n",
    "- Simple Mathematical Operations.\n",
    "- Key takeaways of tools for data science."
   ]
  },
  {
   "cell_type": "markdown",
   "id": "6228c59a-5f87-4207-afc2-798939fdc7b0",
   "metadata": {},
   "source": [
    "Some of the popular languages that Data Scientists use are:\n",
    "1. Python\n",
    "2. SQL\n",
    "3. R"
   ]
  },
  {
   "cell_type": "markdown",
   "id": "335850e0-377b-4e56-b0de-598ff5949a80",
   "metadata": {},
   "source": [
    "Some of the commonly used libraries used by Data Scientists include:\n",
    "1. Numpy\n",
    "2. Panda\n",
    "3. Matplotlib\n",
    "4. Seaborn\n",
    "5. Scikit-Learn\n",
    "6. PyTorch\n",
    "7. TensorFlow"
   ]
  },
  {
   "cell_type": "markdown",
   "id": "d5fa2e8d-b3bc-4f29-9dd1-a54ba0ebf251",
   "metadata": {},
   "source": [
    "|Data Science Tools|\n",
    "|------------------|\n",
    "|Jupyter Notebook|\n",
    "|Google Colab|\n",
    "|Apache Spark|\n",
    "|Tableau|"
   ]
  },
  {
   "cell_type": "markdown",
   "id": "141e7d8f-a0da-429a-ab9a-e3b149c692ae",
   "metadata": {},
   "source": [
    "### Below are a few examples of evaluating arithmetic expressions in Python."
   ]
  },
  {
   "cell_type": "code",
   "execution_count": 1,
   "id": "c8a733a7-cfe2-44b9-9ecd-a7d2ebb38a36",
   "metadata": {},
   "outputs": [
    {
     "name": "stdout",
     "output_type": "stream",
     "text": [
      "9\n",
      "20\n",
      "17\n"
     ]
    }
   ],
   "source": [
    "print(4+5)\n",
    "#This is a simple arithmetic operation between two integers.\n",
    "\n",
    "print(4*5)\n",
    "#This is a simple multiplication operation between two integers.\n",
    "\n",
    "print((3*4)+5)\n",
    "#This is a simple arithmetic expression to multiply then add integers."
   ]
  },
  {
   "cell_type": "code",
   "execution_count": 2,
   "id": "12c08997-2586-4780-9ed0-f296af9a888e",
   "metadata": {},
   "outputs": [
    {
     "name": "stdout",
     "output_type": "stream",
     "text": [
      "3.3333333333333335\n"
     ]
    }
   ],
   "source": [
    "#hr- hour; min- minute\n",
    "min = 200\n",
    "hr = min/60\n",
    "print(hr)"
   ]
  },
  {
   "cell_type": "markdown",
   "id": "fe2b1fad-11cf-4dc2-99c1-f5ec7aaa2c38",
   "metadata": {},
   "source": [
    "## Author\n",
    "Shreyas Jain"
   ]
  }
 ],
 "metadata": {
  "kernelspec": {
   "display_name": "Python 3 (ipykernel)",
   "language": "python",
   "name": "python3"
  },
  "language_info": {
   "codemirror_mode": {
    "name": "ipython",
    "version": 3
   },
   "file_extension": ".py",
   "mimetype": "text/x-python",
   "name": "python",
   "nbconvert_exporter": "python",
   "pygments_lexer": "ipython3",
   "version": "3.12.2"
  }
 },
 "nbformat": 4,
 "nbformat_minor": 5
}
